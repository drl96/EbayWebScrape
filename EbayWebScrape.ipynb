{
 "nbformat": 4,
 "nbformat_minor": 2,
 "metadata": {
  "language_info": {
   "name": "python",
   "codemirror_mode": {
    "name": "ipython",
    "version": 3
   },
   "version": "3.8.2-final"
  },
  "orig_nbformat": 2,
  "file_extension": ".py",
  "mimetype": "text/x-python",
  "name": "python",
  "npconvert_exporter": "python",
  "pygments_lexer": "ipython3",
  "version": 3,
  "kernelspec": {
   "name": "python3",
   "display_name": "Python 3"
  }
 },
 "cells": [
  {
   "cell_type": "code",
   "execution_count": 2,
   "metadata": {},
   "outputs": [],
   "source": [
    "from bs4 import BeautifulSoup\n",
    "import requests\n",
    "import csv\n",
    "\n",
    "page = requests.get('https://www.ebay.com/sch/i.html?_from=R40&_trksid=p2334524.m570.l1313.TR12.TRC2.A0.H0.Xmouse.TRS0&_nkw=mouse&_sacat=0&LH_TitleDesc=0&_osacat=0&_odkw=laptop')\n",
    "#print(page)\n",
    "\n",
    "soup = BeautifulSoup(page.content, \"html.parser\")"
   ]
  },
  {
   "cell_type": "code",
   "execution_count": 3,
   "metadata": {
    "tags": [
     "outputPrepend"
    ]
   },
   "outputs": [],
   "source": [
    "item_listings = soup.find_all(class_=\"s-item__wrapper clearfix\")"
   ]
  },
  {
   "cell_type": "code",
   "execution_count": 4,
   "metadata": {},
   "outputs": [],
   "source": [
    "# PLACE EACH OF INFO TYPES INTO INDIVIDUAL LISTS"
   ]
  },
  {
   "cell_type": "code",
   "execution_count": 5,
   "metadata": {},
   "outputs": [],
   "source": [
    "item_titles = []\n",
    "for item in item_listings:\n",
    "    item_title = item.find(class_=\"s-item__title\")\n",
    "    item_titles.append(item_title.text)\n",
    "#print(item_titles)\n",
    "#print(len(item_titles))"
   ]
  },
  {
   "cell_type": "code",
   "execution_count": 6,
   "metadata": {},
   "outputs": [],
   "source": [
    "item_conditions = []\n",
    "for item in item_listings:\n",
    "    item_condition = item.find(class_=\"SECONDARY_INFO\")\n",
    "    item_conditions.append(item_condition.text)\n",
    "#print(item_conditions)\n",
    "#print(len(item_conditions))"
   ]
  },
  {
   "cell_type": "code",
   "execution_count": 7,
   "metadata": {},
   "outputs": [],
   "source": [
    "item_prices = []\n",
    "for item in item_listings:\n",
    "    item_price = item.find(class_=\"s-item__price\")\n",
    "    item_prices.append(item_price.text)\n",
    "#print(item_prices)\n",
    "#print(len(item_prices))"
   ]
  },
  {
   "cell_type": "code",
   "execution_count": 8,
   "metadata": {},
   "outputs": [],
   "source": [
    "# CREATE PANDAS DATAFRAME TO EXPORT TO CSV"
   ]
  },
  {
   "cell_type": "code",
   "execution_count": 9,
   "metadata": {},
   "outputs": [],
   "source": [
    "import pandas as pd\n",
    "items = pd.DataFrame({\n",
    "    \"Product Name\": item_titles,\n",
    "    \"Product Condition\": item_conditions,\n",
    "    \"Product Price\": item_prices,\n",
    "})\n",
    "#print(items)"
   ]
  },
  {
   "cell_type": "code",
   "execution_count": 10,
   "metadata": {},
   "outputs": [],
   "source": [
    "# EXPORT THE PANDAS DATAFRAME TO A CSV FILE"
   ]
  },
  {
   "cell_type": "code",
   "execution_count": 11,
   "metadata": {},
   "outputs": [],
   "source": [
    "export_csv = items.to_csv(\"ebay_items.csv\", index = None, header=True)"
   ]
  }
 ]
}